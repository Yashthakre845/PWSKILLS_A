{
 "cells": [
  {
   "cell_type": "code",
   "execution_count": null,
   "id": "e246cb48-e460-4331-8a68-5403091ada63",
   "metadata": {},
   "outputs": [],
   "source": [
    "# Q1. What is Abstraction in OOps? Explain with an example.\n",
    "\"\"\"\n",
    "Abstraction in OOPs refers to the concept of hiding the complex implementation details and showing only the necessary features of an object to the outside world. It allows the programmer to focus on what an object does instead of how it does it. For example, when driving a car, you don't need to know how the engine works internally; you just need to know how to use the accelerator, brake, and steering wheel.\n",
    "\n",
    "Example:\n",
    "Consider a class called Animal with methods like eat() and sleep(). These methods provide a high-level view of what an animal does without exposing the internal details of how eating or sleeping is implemented for different types of animals.\n",
    "\"\"\"\n",
    "\n",
    "# Q2. Differentiate between Abstraction and Encapsulation. Explain with an example.\n",
    "\"\"\"\n",
    "Abstraction and Encapsulation are two fundamental concepts in OOPs, but they serve different purposes:\n",
    "Abstraction focuses on hiding the complex implementation details and showing only the necessary features of an object to the outside world.\n",
    "Encapsulation, on the other hand, is about bundling the data and methods that operate on the data into a single unit, thereby restricting access to the data from outside the unit.\n",
    "\n",
    "Example:\n",
    "Consider a car as an object. Abstraction would be providing a method like drive() without revealing the internal workings of the engine, transmission, etc. Encapsulation, on the other hand, would involve encapsulating the car's data (e.g., speed, fuel level) and methods (e.g., accelerate(), refuel()) within a class, ensuring that these data and methods are accessed and modified through controlled interfaces.\n",
    "\"\"\"\n",
    "\n",
    "# Q3. What is abc module in python? Why is it used?\n",
    "\"\"\"\n",
    "The abc (Abstract Base Classes) module in Python provides infrastructure for defining abstract base classes. An abstract base class is a class that cannot be instantiated directly but serves as a template for other classes. It allows you to define a common interface for a set of subclasses, ensuring that they implement specific methods.\n",
    "\n",
    "It is used to enforce a contract on the derived classes to implement certain methods or properties. This helps in achieving abstraction and ensures a certain level of consistency across different subclasses.\n",
    "\n",
    "For example, you can use the abc module to define an abstract base class Animal with abstract methods like eat() and sleep(), which must be implemented by its subclasses like Dog, Cat, etc.\n",
    "\"\"\"\n",
    "\n",
    "# Q4. How can we achieve data abstraction?\n",
    "\"\"\"\n",
    "Data abstraction in OOPs can be achieved by using abstract classes and interfaces. Abstract classes are classes that cannot be instantiated and may contain one or more abstract methods, which are methods without a body. These abstract methods serve as placeholders and must be implemented by subclasses.\n",
    "\n",
    "By defining abstract classes with abstract methods, we can hide the internal implementation details and only expose the necessary interface to the outside world, thereby achieving data abstraction.\n",
    "\n",
    "For example, in Python, you can use the abc module to define abstract base classes with abstract methods, ensuring that subclasses provide their own implementation for these methods.\n",
    "\"\"\"\n",
    "\n",
    "# Q5. Can we create an instance of an abstract class? Explain your answer.\n",
    "\"\"\"\n",
    "No, we cannot create an instance of an abstract class in Python. Abstract classes are meant to serve as blueprints for other classes and cannot be instantiated directly because they may contain abstract methods without an implementation.\n",
    "\n",
    "Attempting to instantiate an abstract class will raise a TypeError. However, we can create instances of concrete subclasses that inherit from the abstract class and provide implementations for all abstract methods.\n",
    "\n",
    "For example, consider an abstract class Animal with an abstract method make_sound(). We cannot create an instance of Animal directly, but we can create instances of concrete subclasses like Dog or Cat, which provide their own implementation of make_sound().\n",
    "\"\"\"\n"
   ]
  }
 ],
 "metadata": {
  "kernelspec": {
   "display_name": "Python 3 (ipykernel)",
   "language": "python",
   "name": "python3"
  },
  "language_info": {
   "codemirror_mode": {
    "name": "ipython",
    "version": 3
   },
   "file_extension": ".py",
   "mimetype": "text/x-python",
   "name": "python",
   "nbconvert_exporter": "python",
   "pygments_lexer": "ipython3",
   "version": "3.10.8"
  }
 },
 "nbformat": 4,
 "nbformat_minor": 5
}
