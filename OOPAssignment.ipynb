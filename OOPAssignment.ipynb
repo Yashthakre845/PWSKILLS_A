{
 "cells": [
  {
   "cell_type": "code",
   "execution_count": 3,
   "id": "e8c35532-0dcd-4120-9391-4d86823472fa",
   "metadata": {},
   "outputs": [
    {
     "name": "stdout",
     "output_type": "stream",
     "text": [
      "Car: Toyota Camry\n",
      "Car: Honda Accord\n"
     ]
    }
   ],
   "source": [
    "# Q1. Explain Class and Object with respect to Object-Oriented Programming. Give a suitable example.\n",
    "# A class is a blueprint for creating objects. It defines the attributes and behaviors that will be associated with the objects created from it.\n",
    "# An object is an instance of a class. It is a real-world entity that has state and behavior defined by its class.\n",
    "# Example:\n",
    "class Car:\n",
    "    def __init__(self, make, model):\n",
    "        self.make = make\n",
    "        self.model = model\n",
    "\n",
    "    def display_info(self):\n",
    "        print(f\"Car: {self.make} {self.model}\")\n",
    "\n",
    "# Creating objects/instances of the Car class\n",
    "car1 = Car(\"Toyota\", \"Camry\")\n",
    "car2 = Car(\"Honda\", \"Accord\")\n",
    "car1.display_info()\n",
    "car2.display_info()"
   ]
  },
  {
   "cell_type": "code",
   "execution_count": 4,
   "id": "e723832c-fb90-45b4-903a-9bc0487d4be4",
   "metadata": {},
   "outputs": [],
   "source": [
    "# Q2. Name the four pillars of OOPs.\n",
    "# The four pillars of Object-Oriented Programming (OOP) are:\n",
    "# 1. Encapsulation\n",
    "# 2. Abstraction\n",
    "# 3. Inheritance\n",
    "# 4. Polymorphism"
   ]
  },
  {
   "cell_type": "code",
   "execution_count": 5,
   "id": "326d2cb2-5d09-4f73-af07-069bc0e1da4c",
   "metadata": {},
   "outputs": [
    {
     "name": "stdout",
     "output_type": "stream",
     "text": [
      "Alice\n",
      "30\n"
     ]
    }
   ],
   "source": [
    "# Q3. Explain why the __init__() function is used. Give a suitable example.\n",
    "# The __init__() function is a special method in Python classes that is called automatically when a new object is created. \n",
    "# It is used to initialize the object's attributes.\n",
    "# Example:\n",
    "class Person:\n",
    "    def __init__(self, name, age):\n",
    "        self.name = name\n",
    "        self.age = age\n",
    "\n",
    "person1 = Person(\"Alice\", 30)\n",
    "print(person1.name)  # Output: Alice\n",
    "print(person1.age)   # Output: 30"
   ]
  },
  {
   "cell_type": "code",
   "execution_count": 6,
   "id": "a2bca002-fbd9-4095-85a8-8421d99dec3d",
   "metadata": {},
   "outputs": [],
   "source": [
    "# Q4. Why self is used in OOPs?\n",
    "# 'self' is a reference to the current instance of the class. It is used to access variables and methods within the class.\n",
    "# It is required as the first parameter in instance methods to access and modify instance attributes."
   ]
  },
  {
   "cell_type": "code",
   "execution_count": 9,
   "id": "4e4b9c5a-a66a-4550-a715-2a786038998d",
   "metadata": {},
   "outputs": [
    {
     "name": "stdout",
     "output_type": "stream",
     "text": [
      "Parent class method\n"
     ]
    }
   ],
   "source": [
    "# Q5. What is inheritance? Give an example for each type of inheritance.\n",
    "# Inheritance is a mechanism in OOP that allows a new class to inherit properties and behavior from an existing class.\n",
    "# Example of types of inheritance:\n",
    "# 1. Single Inheritance:\n",
    "class Parent:\n",
    "    def show(self):\n",
    "        print(\"Parent class method\")\n",
    "\n",
    "class Child(Parent):\n",
    "    def display(self):\n",
    "        print(\"Child class method\")\n",
    "# Single Inheritance\n",
    "child_obj = Child()\n",
    "child_obj.show()    # Output: Parent class method"
   ]
  },
  {
   "cell_type": "code",
   "execution_count": 12,
   "id": "8c6110d3-d809-4e89-9570-d1aebf2a1747",
   "metadata": {},
   "outputs": [
    {
     "name": "stdout",
     "output_type": "stream",
     "text": [
      "Method A from ClassA\n",
      "Method B from ClassB\n",
      "Method B from ClassB\n"
     ]
    }
   ],
   "source": [
    "# 2. Multiple Inheritance:\n",
    "class ClassA:\n",
    "    def methodA(self):\n",
    "        print(\"Method A from ClassA\")\n",
    "\n",
    "class ClassB:\n",
    "    def methodB(self):\n",
    "        print(\"Method B from ClassB\")\n",
    "\n",
    "class ClassC(ClassA, ClassB):\n",
    "    def methodC(self):\n",
    "        print(\"Method C from ClassC\")\n",
    "# Multiple Inheritance\n",
    "obj_c = ClassC()\n",
    "obj_c.methodA()     # Output: Method A from ClassA\n",
    "obj_c.methodB()     # Output: Method B from ClassB\n",
    "obj_c.methodB()"
   ]
  },
  {
   "cell_type": "code",
   "execution_count": 11,
   "id": "a41e305f-64ef-44c6-a6cd-0daefa986e5e",
   "metadata": {},
   "outputs": [
    {
     "name": "stdout",
     "output_type": "stream",
     "text": [
      "Grandparent method\n",
      "Parent method\n"
     ]
    }
   ],
   "source": [
    "# 3. Multilevel Inheritance:\n",
    "class Grandparent:\n",
    "    def grandparent_method(self):\n",
    "        print(\"Grandparent method\")\n",
    "\n",
    "class Parent(Grandparent):\n",
    "    def parent_method(self):\n",
    "        print(\"Parent method\")\n",
    "\n",
    "class Child(Parent):\n",
    "    def child_method(self):\n",
    "        print(\"Child method\")\n",
    "        # Multilevel Inheritance\n",
    "grandchild = Child()\n",
    "grandchild.grandparent_method()   # Output: Grandparent method\n",
    "grandchild.parent_method()        # Output: Parent method"
   ]
  },
  {
   "cell_type": "code",
   "execution_count": null,
   "id": "4a48f077-5d85-4944-b052-54e90394044c",
   "metadata": {},
   "outputs": [],
   "source": []
  }
 ],
 "metadata": {
  "kernelspec": {
   "display_name": "Python 3 (ipykernel)",
   "language": "python",
   "name": "python3"
  },
  "language_info": {
   "codemirror_mode": {
    "name": "ipython",
    "version": 3
   },
   "file_extension": ".py",
   "mimetype": "text/x-python",
   "name": "python",
   "nbconvert_exporter": "python",
   "pygments_lexer": "ipython3",
   "version": "3.10.8"
  }
 },
 "nbformat": 4,
 "nbformat_minor": 5
}
