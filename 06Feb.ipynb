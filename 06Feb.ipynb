{
 "cells": [
  {
   "cell_type": "code",
   "execution_count": 18,
   "id": "ef5b91bc-45f7-491b-9742-43de88d39008",
   "metadata": {},
   "outputs": [
    {
     "name": "stdout",
     "output_type": "stream",
     "text": [
      "Flattened list: [1, 2, 3, 4, 44, 55, 66, True, False, 34, 56, 78, 89, 34, 1, 2, 3, 34, 55, 67, 78, 89, 45, 22, 61, 34, 1, 4, 56]\n",
      "Current number: 1\n",
      "Current number: 2\n",
      "Current number: 3\n",
      "Current number: 4\n",
      "Current number: 44\n",
      "Current number: 55\n",
      "Current number: 66\n",
      "Current number: True\n",
      "Current number: False\n",
      "Current number: 34\n",
      "Current number: 56\n",
      "Current number: 78\n",
      "Current number: 89\n",
      "Current number: 34\n",
      "Current number: 1\n",
      "Current number: 2\n",
      "Current number: 3\n",
      "Current number: 34\n",
      "Current number: 55\n",
      "Current number: 67\n",
      "Current number: 78\n",
      "Current number: 89\n",
      "Current number: 45\n",
      "Current number: 22\n",
      "Current number: 61\n",
      "Current number: 34\n",
      "Current number: 1\n",
      "Current number: 4\n",
      "Current number: 56\n",
      "Product of all numbers in the list: 0\n"
     ]
    }
   ],
   "source": [
    "#Q1. Create a function which will take a list as an argument and return the product of all the numbers\n",
    "#after creating a flat list.\n",
    "#Use the below-given list as an argument for your function.\n",
    "\n",
    "def flatten_list(lst):\n",
    "    flattened = []\n",
    "    for item in lst:\n",
    "        if isinstance(item, (list, tuple, set)):\n",
    "            flattened.extend(flatten_list(item))\n",
    "        elif isinstance(item, dict):\n",
    "            flattened.extend(flatten_list(item.values()))\n",
    "            flattened.extend(flatten_list(item.keys()))\n",
    "        elif isinstance(item, (int, float)):\n",
    "            flattened.append(item)\n",
    "        elif isinstance(item, bool):\n",
    "            flattened.remove(item)\n",
    "    return flattened\n",
    "\n",
    "def product_of_numbers(lst):\n",
    "    flattened = flatten_list(lst)\n",
    "    print(\"Flattened list:\", flattened)\n",
    "    product = 1\n",
    "    for num in flattened:\n",
    "        print(\"Current number:\", num)\n",
    "        if isinstance(num, (int, float)):\n",
    "            product *= num\n",
    "    return product\n",
    "\n",
    "# Test the function with the provided list\n",
    "list1 = [1, 2, 3, 4, [44, 55, 66, True], False, (34, 56, 78, 89, 34), {1, 2, 3, 3, 2, 1},\n",
    "         {1: 34, \"key2\": [55, 67, 78, 89], 4: (45, 22, 61, 34)}, [56, 'data science'], 'Machine Learning']\n",
    "result = product_of_numbers(list1)\n",
    "print(\"Product of all numbers in the list:\", result)\n"
   ]
  },
  {
   "cell_type": "code",
   "execution_count": 22,
   "id": "4a3ac55c-e4ed-48af-8ce4-016475da2b98",
   "metadata": {},
   "outputs": [
    {
     "name": "stdout",
     "output_type": "stream",
     "text": [
      "Encrypted message: R$dzmg$gl$yvxlnv$z$Wzgz$Hxrvmgrhg\n"
     ]
    }
   ],
   "source": [
    "#Q2. Write a python program for encrypting a message sent to you by your friend. The logic of encryption\n",
    "#should be such that, for a the output should be z. For b, the output should be y. For c, the output should\n",
    "#be x respectively. Also, the whitespace should be replaced with a dollar sign. Keep the punctuation\n",
    "#marks unchanged.\n",
    "#Input Sentence: I want to become a Data Scientist.\n",
    "#Encrypt the above input sentence using the program you just created.\n",
    "def encrypt_message(message):\n",
    "    encrypted = \"\"\n",
    "    for char in message:\n",
    "        if char.isalpha():\n",
    "            encrypted += chr(219 - ord(char)) if char.islower() else chr(155 - ord(char))\n",
    "        elif char == ' ':\n",
    "            encrypted += '$'\n",
    "    return encrypted\n",
    "\n",
    "# Input sentence\n",
    "input_sentence = \"I want to become a Data Scientist.\"\n",
    "\n",
    "# Encrypt the message\n",
    "encrypted_message = encrypt_message(input_sentence)\n",
    "print(\"Encrypted message:\", encrypted_message)"
   ]
  },
  {
   "cell_type": "code",
   "execution_count": null,
   "id": "662e69c3-c43c-4c9e-8842-89dca0f6aafd",
   "metadata": {},
   "outputs": [],
   "source": []
  }
 ],
 "metadata": {
  "kernelspec": {
   "display_name": "Python 3 (ipykernel)",
   "language": "python",
   "name": "python3"
  },
  "language_info": {
   "codemirror_mode": {
    "name": "ipython",
    "version": 3
   },
   "file_extension": ".py",
   "mimetype": "text/x-python",
   "name": "python",
   "nbconvert_exporter": "python",
   "pygments_lexer": "ipython3",
   "version": "3.10.8"
  }
 },
 "nbformat": 4,
 "nbformat_minor": 5
}
