{
 "cells": [
  {
   "cell_type": "code",
   "execution_count": 3,
   "id": "fad18512-787f-40db-ad59-131f09e0d2cc",
   "metadata": {},
   "outputs": [
    {
     "name": "stdin",
     "output_type": "stream",
     "text": [
      "Please enter the Password:  ASup***2po\n"
     ]
    },
    {
     "name": "stdout",
     "output_type": "stream",
     "text": [
      "Valid Password\n"
     ]
    }
   ],
   "source": [
    "#Q1. You are writing code for a company. The requirement of the company is that you create a python\n",
    "#function that will check whether the password entered by the user is correct or not. The function should\n",
    "#take the password as input and return the string “Valid Password” if the entered password follows the\n",
    "#below-given password guidelines else it should return “Invalid Password”.\n",
    "#Note: 1. The Password should contain at least two uppercase letters and at least two lowercase letters.\n",
    "#2. The Password should contain at least a number and three special characters.\n",
    "#3. The length of the password should be 10 characters long.\n",
    "\n",
    "def check_password(password):\n",
    "    \n",
    "    if len(password) != 10:\n",
    "        return \"Invalid Password: Password must be 10 charachter long.\"\n",
    "    \n",
    "    upper_case_count = sum(1 for char in password if char.isupper())\n",
    "    if upper_case_count < 2:\n",
    "        return \" Invalid Password: Password should contain atleast 2 upper case letter.\"\n",
    "    \n",
    "    lower_case_count = sum(1 for char in password if char.islower())\n",
    "    if lower_case_count < 2:\n",
    "        return \" Invalid Password: Password should contain atleast 2 lower case letter.\"\n",
    "    \n",
    "    digit_count = sum(1 for char in password if char.isdigit())\n",
    "    if digit_count < 1:\n",
    "        return \" Invalid Password: Password should contain atleast 1 number.\"\n",
    "    \n",
    "    special_char_count = sum(1 for char in password if char.isalnum())\n",
    "    if special_char_count < 4:\n",
    "        return \" Invalid Password: Password should contain atleast 3 special charachter.\"\n",
    "    \n",
    "    return \"Valid Password\"\n",
    "\n",
    "password = input(\"Please enter the Password: \")\n",
    "result = check_password(password)\n",
    "print(result)\n",
    "    \n",
    "        "
   ]
  },
  {
   "cell_type": "code",
   "execution_count": null,
   "id": "6681fd5a-6451-4cb7-94c5-6c381899f658",
   "metadata": {},
   "outputs": [],
   "source": [
    "#Q2. Solve the below-given questions using at least one of the following:\n",
    "#1. Lambda function\n",
    "#2. Filter function\n",
    "#3. Map function\n",
    "#4. List Comprehension\n",
    "#. Check if the string starts with a particular letter.\n",
    "#. Check if the string is numeric.\n",
    "#. Sort a list of tuples having fruit names and their quantity. [(\"mango\",99),(\"orange\",80), (\"grapes\", 1000)]\n",
    "#. Find the squares of numbers from 1 to 10\n",
    "#. Find the cube root of numbers from 1 to 10\n",
    "#. Check if a given number is even\n",
    "#. Filter odd numbers from the given list.\n",
    "#[1,2,3,4,5,6,7,8,9,10]\n",
    "#. Sort a list of integers into positive and negative integers lists.\n",
    "#[1,2,3,4,5,6,-1,-2,-3,-4,-5,0]"
   ]
  },
  {
   "cell_type": "code",
   "execution_count": 5,
   "id": "f1e4828d-ebaa-408f-8811-0694b91da720",
   "metadata": {},
   "outputs": [
    {
     "name": "stdout",
     "output_type": "stream",
     "text": [
      "True\n"
     ]
    }
   ],
   "source": [
    "def starts_with_letter(string, letter):\n",
    "    return string.startswith(letter)\n",
    "string = \"Hello World\"\n",
    "letter = \"H\"\n",
    "result = starts_with_letter(string, letter)\n",
    "print(result)"
   ]
  },
  {
   "cell_type": "code",
   "execution_count": 7,
   "id": "94320306-49b9-40c1-9177-016a69c0900d",
   "metadata": {},
   "outputs": [
    {
     "name": "stdout",
     "output_type": "stream",
     "text": [
      "True\n"
     ]
    }
   ],
   "source": [
    "is_numeric = lambda string : string.isdigit()\n",
    "\n",
    "string = \"123456\"\n",
    "result = is_numeric(string)\n",
    "print(result)"
   ]
  },
  {
   "cell_type": "code",
   "execution_count": 11,
   "id": "d2b0fa4c-ec4c-46b8-8093-889ea153614e",
   "metadata": {},
   "outputs": [
    {
     "name": "stdout",
     "output_type": "stream",
     "text": [
      "[('grapes', 1000), ('mango', 99), ('orange', 80)]\n"
     ]
    }
   ],
   "source": [
    "fruits = [(\"mango\", 99), (\"orange\", 80), (\"grapes\", 1000)]\n",
    "sorted_fruits = sorted(fruits, key=lambda fruit: fruit[1], reverse=True)  # Sort by quantity (descending)\n",
    "\n",
    "print(sorted_fruits)  # [(\"grapes\", 1000), (\"mango\", 99), (\"orange\", 80)]"
   ]
  },
  {
   "cell_type": "code",
   "execution_count": 12,
   "id": "9f3a320b-e382-4bc8-ad6c-a88a024c1ac9",
   "metadata": {},
   "outputs": [
    {
     "name": "stdout",
     "output_type": "stream",
     "text": [
      "[1, 4, 9, 16, 25, 36, 49, 64, 81, 100]\n"
     ]
    }
   ],
   "source": [
    "# Using map function\n",
    "squares = list(map(lambda x: x * x, range(1, 11)))  # range(1, 11) generates numbers from 1 to 10 (excluding 11)\n",
    "\n",
    "print(squares)  # [1, 4, 9, 16, 25, 36, 49, 64, 81, 100]"
   ]
  },
  {
   "cell_type": "code",
   "execution_count": 13,
   "id": "2172e5e2-2eef-40b6-a680-25b85d9169cc",
   "metadata": {},
   "outputs": [
    {
     "name": "stdout",
     "output_type": "stream",
     "text": [
      "[1.0, 1.2599210498948732, 1.4422495703074083, 1.5874010519681994, 1.7099759466766968, 1.8171205928321397, 1.912931182772389, 2.0, 2.080083823051904, 2.154434690031884]\n"
     ]
    }
   ],
   "source": [
    "# Using list comprehension\n",
    "cube_roots = [x ** (1/3) for x in range(1, 11)]  # Raise to the power of 1/3 for cube root\n",
    "\n",
    "print(cube_roots)  # [1.0, 1.2599210498948732, 1.4422495703074083, 1.5874010519681994, ...] (approximate values due to floating-point)"
   ]
  },
  {
   "cell_type": "code",
   "execution_count": 14,
   "id": "ce019499-871f-49af-bb50-c62c7a4ef67f",
   "metadata": {},
   "outputs": [
    {
     "name": "stdout",
     "output_type": "stream",
     "text": [
      "True\n"
     ]
    }
   ],
   "source": [
    "# Using lambda function\n",
    "is_even = lambda num: num % 2 == 0\n",
    "\n",
    "# Example usage\n",
    "number = 10\n",
    "result = is_even(number)\n",
    "print(result)  # True"
   ]
  },
  {
   "cell_type": "code",
   "execution_count": 15,
   "id": "37d71a73-2078-4bc2-9526-45390e5e09c5",
   "metadata": {},
   "outputs": [
    {
     "name": "stdout",
     "output_type": "stream",
     "text": [
      "[2, 4, 6, 8, 10]\n"
     ]
    }
   ],
   "source": [
    "numbers = [1, 2, 3, 4, 5, 6, 7, 8, 9, 10]\n",
    "even_numbers = list(filter(lambda num: num % 2 == 0, numbers))\n",
    "\n",
    "print(even_numbers)  # [2, 4, 6, 8, 10]"
   ]
  },
  {
   "cell_type": "code",
   "execution_count": null,
   "id": "a6b3d0a6-dbd8-4bb4-8d15-9f8bc084aac9",
   "metadata": {},
   "outputs": [],
   "source": []
  }
 ],
 "metadata": {
  "kernelspec": {
   "display_name": "Python 3 (ipykernel)",
   "language": "python",
   "name": "python3"
  },
  "language_info": {
   "codemirror_mode": {
    "name": "ipython",
    "version": 3
   },
   "file_extension": ".py",
   "mimetype": "text/x-python",
   "name": "python",
   "nbconvert_exporter": "python",
   "pygments_lexer": "ipython3",
   "version": "3.10.8"
  }
 },
 "nbformat": 4,
 "nbformat_minor": 5
}
