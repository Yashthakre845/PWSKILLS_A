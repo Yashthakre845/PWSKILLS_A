{
 "cells": [
  {
   "cell_type": "code",
   "execution_count": 14,
   "id": "bb65f5ce-0fc8-4a2a-b233-491f0c5ab16e",
   "metadata": {},
   "outputs": [],
   "source": [
    "#Q1"
   ]
  },
  {
   "cell_type": "code",
   "execution_count": 16,
   "id": "c7bbd110-37b6-413e-acfd-390a5060a2ef",
   "metadata": {},
   "outputs": [
    {
     "name": "stdin",
     "output_type": "stream",
     "text": [
      "Enter your percentage 67\n"
     ]
    },
    {
     "name": "stdout",
     "output_type": "stream",
     "text": [
      "C\n"
     ]
    }
   ],
   "source": [
    "grade = float(input(\"Enter your percentage\"))\n",
    "if grade > 90:\n",
    "    print(\"A\")\n",
    "elif grade > 80 and grade <= 90:\n",
    "    print(\"B\")\n",
    "elif grade >= 60 and grade <= 80:\n",
    "    print(\"C\")\n",
    "elif grade < 60:\n",
    "    print(\"D\")\n",
    "else:\n",
    "    print(\"Enter proper percentage\")"
   ]
  },
  {
   "cell_type": "code",
   "execution_count": 17,
   "id": "1c362b08-9ff8-4268-9653-b5d5e381e12b",
   "metadata": {},
   "outputs": [],
   "source": [
    "#Q2"
   ]
  },
  {
   "cell_type": "code",
   "execution_count": 18,
   "id": "0b662385-cf44-4e97-ac16-5976be7d8d8f",
   "metadata": {},
   "outputs": [
    {
     "name": "stdin",
     "output_type": "stream",
     "text": [
      "Enter the cost price of bike 67586\n"
     ]
    },
    {
     "name": "stdout",
     "output_type": "stream",
     "text": [
      "Tax to be paid: 10%\n"
     ]
    }
   ],
   "source": [
    "price = int(input(\"Enter the cost price of bike\"))\n",
    "if price > 100000:\n",
    "    print(\"Tax to be paid: 15%\")\n",
    "elif price > 50000 and price <= 100000:\n",
    "    print(\"Tax to be paid: 10%\")\n",
    "elif price <= 50000:\n",
    "    print(\"Tax to be paid: 5%\")"
   ]
  },
  {
   "cell_type": "code",
   "execution_count": 19,
   "id": "c5206469-6760-4ec0-bb64-f66cdad9ece7",
   "metadata": {},
   "outputs": [],
   "source": [
    "#Q3"
   ]
  },
  {
   "cell_type": "code",
   "execution_count": 21,
   "id": "83d35c82-05d3-4706-9031-8d2ce0ddcc97",
   "metadata": {},
   "outputs": [
    {
     "name": "stdin",
     "output_type": "stream",
     "text": [
      "Enter name of the city Jaipur\n"
     ]
    },
    {
     "name": "stdout",
     "output_type": "stream",
     "text": [
      "Monument: Jai Mahal\n"
     ]
    }
   ],
   "source": [
    "city = input(\"Enter name of the city\")\n",
    "if city == \"Delhi\":\n",
    "    print(\"Monument: Red Fort\")\n",
    "elif city == \"Agra\":\n",
    "    print(\"Monument: Taj Mahal\")\n",
    "elif city == \"Jaipur\":\n",
    "    print(\"Monument: Jai Mahal\")"
   ]
  },
  {
   "cell_type": "code",
   "execution_count": 22,
   "id": "b2650405-85dd-48df-832d-3310a4912e4e",
   "metadata": {},
   "outputs": [],
   "source": [
    "#Q4"
   ]
  },
  {
   "cell_type": "code",
   "execution_count": 23,
   "id": "6d566d5e-60ba-4ce1-bc69-d4a65dd2a24b",
   "metadata": {},
   "outputs": [
    {
     "name": "stdin",
     "output_type": "stream",
     "text": [
      "Enter a number 657\n"
     ]
    },
    {
     "name": "stdout",
     "output_type": "stream",
     "text": [
      "The number can be divided 3 times by 3 before it is less than or equal to 10\n"
     ]
    }
   ],
   "source": [
    "n = int(input(\"Enter a number\"))\n",
    "b = 0\n",
    "for i in range(0,100):\n",
    "    a = n/3\n",
    "    n = a\n",
    "    if n <= 10:\n",
    "        break\n",
    "    b = b + 1\n",
    "print(\"The number can be divided\",b,\"times by 3 before it is less than or equal to 10\")"
   ]
  },
  {
   "cell_type": "code",
   "execution_count": 24,
   "id": "babc54f7-830f-4cbe-8d49-9553af2215d5",
   "metadata": {},
   "outputs": [],
   "source": [
    "#Q5"
   ]
  },
  {
   "cell_type": "code",
   "execution_count": null,
   "id": "efc6d388-628a-4a1f-9d7c-f365882382fe",
   "metadata": {},
   "outputs": [],
   "source": [
    "\"\"\" While loop is used when we don't know how many iterations it will take to perform the task unlike for loop where we know about the iterations in the begining only \"\"\"\n",
    "\"\"\" Let us take an example where iterations aren't known in the begining and use while loop upon it \"\"\"\n",
    "i = int(input(\"Enter a number\"))\n",
    "count = 0\n",
    "if i >= 10:\n",
    "    print(\"The number is already greater than or equal 10\")\n",
    "else:\n",
    "    while i < 10:\n",
    "        i = i + 1\n",
    "        count = count + 1\n",
    "    print(\"The number will be incremented\",count,\"times to be equal to 10\")\n",
    "\"\"\" Here we will increament 'i' until its equal to 10, as the iterations aren't known from begining we are implementing while loop here \"\"\"\n",
    "    "
   ]
  },
  {
   "cell_type": "code",
   "execution_count": 10,
   "id": "c24a829c-a454-4291-98cf-81d131f691e7",
   "metadata": {},
   "outputs": [],
   "source": [
    "#Q6"
   ]
  },
  {
   "cell_type": "code",
   "execution_count": 11,
   "id": "bab52617-e3bb-4fa6-a0d6-1f5ab51c485f",
   "metadata": {},
   "outputs": [
    {
     "name": "stdout",
     "output_type": "stream",
     "text": [
      "* \n",
      "* * \n",
      "* * * \n",
      "* * * * \n",
      "* * * * * \n",
      "* * * * * * \n",
      "* * * * * * * \n",
      "* * * * * * * * \n",
      "* * * * * * * * \n",
      "* * * * * * * \n",
      "* * * * * * \n",
      "* * * * * \n",
      "* * * * \n",
      "* * * \n",
      "* * \n",
      "* \n",
      "\n",
      "    *\n",
      "   ***\n",
      "  *****\n",
      " *******\n",
      "*********\n"
     ]
    }
   ],
   "source": [
    "# Pattern no-1\n",
    "i = 1\n",
    "while i <= 8 :\n",
    "    j = 1\n",
    "    while j <= i:\n",
    "        print(\"*\", end = \" \")\n",
    "        j += 1\n",
    "    print()\n",
    "    i += 1\n",
    "# Pattern no-2\n",
    "i = 8\n",
    "while i <= 8 and i >= 0 :\n",
    "    j = 1\n",
    "    while j <= i:\n",
    "        print(\"*\", end = \" \")\n",
    "        j += 1\n",
    "    print()\n",
    "    i -= 1\n",
    "# Pattern no-3\n",
    "size = 5\n",
    "i = 0\n",
    "while i < size:\n",
    "    j = 0\n",
    "    while j < size - i - 1:\n",
    "        print(' ', end='')\n",
    "        j += 1\n",
    "    k = 0\n",
    "    while k < 2 * i + 1:\n",
    "        print('*', end='')\n",
    "        k += 1\n",
    "    print()\n",
    "    i += 1"
   ]
  },
  {
   "cell_type": "code",
   "execution_count": 12,
   "id": "d60180ce-4342-44e2-abf1-8766e67802e1",
   "metadata": {},
   "outputs": [],
   "source": [
    "#Q7"
   ]
  },
  {
   "cell_type": "code",
   "execution_count": 13,
   "id": "1e9786f7-35e0-4186-87db-3248674f97d5",
   "metadata": {},
   "outputs": [
    {
     "name": "stdout",
     "output_type": "stream",
     "text": [
      "10\n",
      "9\n",
      "8\n",
      "7\n",
      "6\n",
      "5\n",
      "4\n",
      "3\n",
      "2\n",
      "1\n"
     ]
    }
   ],
   "source": [
    "a = 10\n",
    "while a>=1:\n",
    "    print(a)\n",
    "    a = a - 1"
   ]
  },
  {
   "cell_type": "code",
   "execution_count": null,
   "id": "73920247-177f-41a4-aa7d-4dd671d491ee",
   "metadata": {},
   "outputs": [],
   "source": []
  }
 ],
 "metadata": {
  "kernelspec": {
   "display_name": "Python 3 (ipykernel)",
   "language": "python",
   "name": "python3"
  },
  "language_info": {
   "codemirror_mode": {
    "name": "ipython",
    "version": 3
   },
   "file_extension": ".py",
   "mimetype": "text/x-python",
   "name": "python",
   "nbconvert_exporter": "python",
   "pygments_lexer": "ipython3",
   "version": "3.10.8"
  }
 },
 "nbformat": 4,
 "nbformat_minor": 5
}
