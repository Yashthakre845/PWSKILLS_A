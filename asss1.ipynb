{
  "metadata": {
    "kernelspec": {
      "name": "python",
      "display_name": "Python (Pyodide)",
      "language": "python"
    },
    "language_info": {
      "codemirror_mode": {
        "name": "python",
        "version": 3
      },
      "file_extension": ".py",
      "mimetype": "text/x-python",
      "name": "python",
      "nbconvert_exporter": "python",
      "pygments_lexer": "ipython3",
      "version": "3.8"
    }
  },
  "nbformat_minor": 4,
  "nbformat": 4,
  "cells": [
    {
      "cell_type": "code",
      "source": "\"\"\"Q1. Explain with an example each when to use a for loop and a while loop.\"\"\"\n",
      "metadata": {
        "trusted": true
      },
      "outputs": [],
      "execution_count": null
    },
    {
      "cell_type": "code",
      "source": "\"\"\"For Loop: Use a for loop when you know the number of iterations in advance or when iterating over sequences like lists, tuples, strings, etc.\nExample:\"\"\"",
      "metadata": {
        "trusted": true
      },
      "outputs": [],
      "execution_count": null
    },
    {
      "cell_type": "code",
      "source": "# Using for loop to iterate over a list\nnumbers = [1, 2, 3, 4, 5]\nfor num in numbers:\n    print(num)\n    ",
      "metadata": {
        "trusted": true
      },
      "outputs": [
        {
          "name": "stdout",
          "text": "1\n2\n3\n4\n5\n",
          "output_type": "stream"
        }
      ],
      "execution_count": 1
    },
    {
      "cell_type": "code",
      "source": "'''While Loop: Use a while loop when you're not sure about the number of iterations or when you want to loop until a condition is met'''",
      "metadata": {
        "trusted": true
      },
      "outputs": [],
      "execution_count": null
    },
    {
      "cell_type": "code",
      "source": "# Using while loop to iterate until a condition is met\nx = 0\nwhile x < 5:\n    print(x)\n    x += 1",
      "metadata": {
        "trusted": true
      },
      "outputs": [
        {
          "name": "stdout",
          "text": "0\n1\n2\n3\n4\n",
          "output_type": "stream"
        }
      ],
      "execution_count": 2
    },
    {
      "cell_type": "code",
      "source": "'''Q2. Python program to print the sum and product of the first 10 natural numbers using for and while loop:'''",
      "metadata": {
        "trusted": true
      },
      "outputs": [
        {
          "execution_count": 3,
          "output_type": "execute_result",
          "data": {
            "text/plain": "'Q2. Python program to print the sum and product of the first 10 natural numbers using for and while loop:'"
          },
          "metadata": {}
        }
      ],
      "execution_count": 3
    },
    {
      "cell_type": "code",
      "source": "# Using for loop\nsum_for = 0\nproduct_for = 1\nfor i in range(1, 11):\n    sum_for += i\n    product_for *= i\nprint(\"Sum using for loop:\", sum_for)\nprint(\"Product using for loop:\", product_for)\n\n# Using while loop\nsum_while = 0\nproduct_while = 1\ni = 1\nwhile i <= 10:\n    sum_while += i\n    product_while *= i\n    i += 1\nprint(\"Sum using while loop:\", sum_while)\nprint(\"Product using while loop:\", product_while)",
      "metadata": {
        "trusted": true
      },
      "outputs": [
        {
          "name": "stdout",
          "text": "Sum using for loop: 55\nProduct using for loop: 3628800\nSum using while loop: 55\nProduct using while loop: 3628800\n",
          "output_type": "stream"
        }
      ],
      "execution_count": 4
    },
    {
      "cell_type": "code",
      "source": "\"\"\"Q3. Python program to compute the electricity bill for a household:\"\"\"",
      "metadata": {
        "trusted": true
      },
      "outputs": [],
      "execution_count": null
    },
    {
      "cell_type": "code",
      "source": "def calculate_bill(units_consumed):\n    if units_consumed <= 100:\n        return units_consumed * 4.5\n    elif units_consumed <= 200:\n        return 100 * 4.5 + (units_consumed - 100) * 6\n    elif units_consumed <= 300:\n        return 100 * 4.5 + 100 * 6 + (units_consumed - 200) * 10\n    else:\n        return 100 * 4.5 + 100 * 6 + 100 * 10 + (units_consumed - 300) * 20\n\nunits_consumed = float(input(\"Enter the units of electricity consumed in a month: \"))\ntotal_bill = calculate_bill(units_consumed)\nprint(\"Total electricity bill:\", total_bill)",
      "metadata": {
        "trusted": true
      },
      "outputs": [],
      "execution_count": null
    },
    {
      "cell_type": "code",
      "source": "'''Q4. Python program to calculate the cube of numbers and electricity bill'''\n",
      "metadata": {
        "trusted": true
      },
      "outputs": [],
      "execution_count": null
    },
    {
      "cell_type": "code",
      "source": "cubes = []\nfor num in range(1, 101):\n    cube = num ** 3\n    if cube % 4 == 0 or cube % 5 == 0:\n        cubes.append(cube)\nprint(\"Cubes divisible by 4 or 5:\", cubes)\n\n# Electricity bill calculation\nunits_consumed = float(input(\"Enter the units of electricity consumed in a month: \"))\n\nif units_consumed <= 100:\n    bill = units_consumed * 4.5\nelif units_consumed <= 200:\n    bill = 100 * 4.5 + (units_consumed - 100) * 6\nelif units_consumed <= 300:\n    bill = 100 * 4.5 + 100 * 6 + (units_consumed - 200) * 10\nelse:\n    bill = 100 * 4.5 + 100 * 6 + 100 * 10 + (units_consumed - 300) * 20\n\nprint(\"Total electricity bill:\", bill",
      "metadata": {
        "trusted": true
      },
      "outputs": [],
      "execution_count": null
    },
    {
      "cell_type": "code",
      "source": "'''Q5. Python program to count vowels in a given string:'''",
      "metadata": {
        "trusted": true
      },
      "outputs": [
        {
          "execution_count": 12,
          "output_type": "execute_result",
          "data": {
            "text/plain": "'Q5. Python program to count vowels in a given string:'"
          },
          "metadata": {}
        }
      ],
      "execution_count": 12
    },
    {
      "cell_type": "code",
      "source": "string = \"I want to become a data scientist\"\nvowels = 'aeiouAEIOU'\ncount = 0\nfor char in string:\n    if char in vowels:\n        count += 1\nprint(\"Number of vowels in the string:\", count)",
      "metadata": {
        "trusted": true
      },
      "outputs": [],
      "execution_count": null
    }
  ]
}